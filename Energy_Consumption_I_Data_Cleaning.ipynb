{
  "cells": [
    {
      "cell_type": "markdown",
      "metadata": {
        "id": "view-in-github",
        "colab_type": "text"
      },
      "source": [
        "<a href=\"https://colab.research.google.com/github/MoonlightO2/Energy-Consumption/blob/main/Energy_Consumption_I_Data_Cleaning.ipynb\" target=\"_parent\"><img src=\"https://colab.research.google.com/assets/colab-badge.svg\" alt=\"Open In Colab\"/></a>"
      ]
    },
    {
      "cell_type": "markdown",
      "metadata": {
        "id": "C0gV4RXar4BU"
      },
      "source": [
        "# **Energy Consumption I - Data Cleaning**\n",
        "\n",
        "PJM Interconnection LLC (PJM) is a regional transmission organization (RTO) in the United States. It is part of the Eastern Interconnection grid operating an electric transmission system serving all or parts of Delaware, Illinois, Indiana, Kentucky, Maryland, Michigan, New Jersey, North Carolina, Ohio, Pennsylvania, Tennessee, Virginia, West Virginia, and the District of Columbia.\n",
        "\n",
        "The hourly power consumption data comes from PJM's website and are in megawatts (MW).\n",
        "\n",
        "The regions have changed over the years so data may only appear for certain dates per region.\n",
        "\n",
        "Dataset:\n",
        "https://www.kaggle.com/datasets/robikscube/hourly-energy-consumption"
      ]
    },
    {
      "cell_type": "code",
      "execution_count": 9,
      "metadata": {
        "id": "sa1hTXOir274"
      },
      "outputs": [],
      "source": [
        "import pandas as pd\n",
        "import numpy as np\n",
        "import folium\n",
        "import seaborn as sns\n",
        "import matplotlib.pyplot as plt\n",
        "from IPython.display import IFrame\n",
        "import os"
      ]
    },
    {
      "cell_type": "code",
      "execution_count": 10,
      "metadata": {
        "id": "90OVP9bTCOkJ"
      },
      "outputs": [],
      "source": [
        "# mount datapath\n",
        "data_path = '/content/drive/MyDrive/2. Projects/Colab Notebooks/Portfolio/Energy Consumption/Energy Consumption'\n",
        "energy_data = '/content/drive/MyDrive/2. Projects/Colab Notebooks/Portfolio/Energy Consumption/Energy Consumption/Energy.csv'\n",
        "# html_file_path = '/content/drive/MyDrive/2. Projects/Colab Notebooks/Portfolio/Road Accident Data Analysis/Accidents_map.html'"
      ]
    },
    {
      "cell_type": "code",
      "execution_count": 11,
      "metadata": {
        "colab": {
          "base_uri": "https://localhost:8080/"
        },
        "id": "qMvJG-IFDU2m",
        "outputId": "43981672-ecb8-41d4-fdb2-d7980f94e942"
      },
      "outputs": [
        {
          "output_type": "stream",
          "name": "stdout",
          "text": [
            "File: AEP_hourly.csv\n",
            "              Datetime   AEP_MW\n",
            "0  2004-12-31 01:00:00  13478.0\n",
            "1  2004-12-31 02:00:00  12865.0\n",
            "\n",
            "==================================================\n",
            "\n",
            "File: COMED_hourly.csv\n",
            "              Datetime  COMED_MW\n",
            "0  2011-12-31 01:00:00    9970.0\n",
            "1  2011-12-31 02:00:00    9428.0\n",
            "\n",
            "==================================================\n",
            "\n",
            "File: DOM_hourly.csv\n",
            "              Datetime  DOM_MW\n",
            "0  2005-12-31 01:00:00  9389.0\n",
            "1  2005-12-31 02:00:00  9070.0\n",
            "\n",
            "==================================================\n",
            "\n",
            "File: DAYTON_hourly.csv\n",
            "              Datetime  DAYTON_MW\n",
            "0  2004-12-31 01:00:00     1596.0\n",
            "1  2004-12-31 02:00:00     1517.0\n",
            "\n",
            "==================================================\n",
            "\n",
            "File: DEOK_hourly.csv\n",
            "              Datetime  DEOK_MW\n",
            "0  2012-12-31 01:00:00   2945.0\n",
            "1  2012-12-31 02:00:00   2868.0\n",
            "\n",
            "==================================================\n",
            "\n",
            "File: DUQ_hourly.csv\n",
            "              Datetime  DUQ_MW\n",
            "0  2005-12-31 01:00:00  1458.0\n",
            "1  2005-12-31 02:00:00  1377.0\n",
            "\n",
            "==================================================\n",
            "\n",
            "File: EKPC_hourly.csv\n",
            "              Datetime  EKPC_MW\n",
            "0  2013-12-31 01:00:00   1861.0\n",
            "1  2013-12-31 02:00:00   1835.0\n",
            "\n",
            "==================================================\n",
            "\n",
            "File: FE_hourly.csv\n",
            "              Datetime   FE_MW\n",
            "0  2011-12-31 01:00:00  6222.0\n",
            "1  2011-12-31 02:00:00  5973.0\n",
            "\n",
            "==================================================\n",
            "\n",
            "File: NI_hourly.csv\n",
            "              Datetime   NI_MW\n",
            "0  2004-12-31 01:00:00  9810.0\n",
            "1  2004-12-31 02:00:00  9001.0\n",
            "\n",
            "==================================================\n",
            "\n",
            "File: PJME_hourly.csv\n",
            "              Datetime  PJME_MW\n",
            "0  2002-12-31 01:00:00  26498.0\n",
            "1  2002-12-31 02:00:00  25147.0\n",
            "\n",
            "==================================================\n",
            "\n",
            "File: PJMW_hourly.csv\n",
            "              Datetime  PJMW_MW\n",
            "0  2002-12-31 01:00:00   5077.0\n",
            "1  2002-12-31 02:00:00   4939.0\n",
            "\n",
            "==================================================\n",
            "\n",
            "File: PJM_Load_hourly.csv\n",
            "              Datetime  PJM_Load_MW\n",
            "0  1998-12-31 01:00:00      29309.0\n",
            "1  1998-12-31 02:00:00      28236.0\n",
            "\n",
            "==================================================\n",
            "\n",
            "File: pjm_hourly_est.csv\n",
            "              Datetime  AEP  COMED  DAYTON  DEOK  DOM  DUQ  EKPC  FE  NI  \\\n",
            "0  1998-12-31 01:00:00  NaN    NaN     NaN   NaN  NaN  NaN   NaN NaN NaN   \n",
            "1  1998-12-31 02:00:00  NaN    NaN     NaN   NaN  NaN  NaN   NaN NaN NaN   \n",
            "\n",
            "   PJME  PJMW  PJM_Load  \n",
            "0   NaN   NaN   29309.0  \n",
            "1   NaN   NaN   28236.0  \n",
            "\n",
            "==================================================\n",
            "\n",
            "File: Energy.csv\n",
            "              Datetime   AEP_MW       MW  COMED_MW  DOM_MW  DAYTON_MW  \\\n",
            "0  2004-12-31 01:00:00  13478.0  13478.0       NaN     NaN        NaN   \n",
            "1  2004-12-31 02:00:00  12865.0  12865.0       NaN     NaN        NaN   \n",
            "\n",
            "   DEOK_MW  DUQ_MW  EKPC_MW  FE_MW  ...  DAYTON  DEOK  DOM  DUQ  EKPC  FE  NI  \\\n",
            "0      NaN     NaN      NaN    NaN  ...     NaN   NaN  NaN  NaN   NaN NaN NaN   \n",
            "1      NaN     NaN      NaN    NaN  ...     NaN   NaN  NaN  NaN   NaN NaN NaN   \n",
            "\n",
            "   PJME  PJMW  PJM_Load  \n",
            "0   NaN   NaN       NaN  \n",
            "1   NaN   NaN       NaN  \n",
            "\n",
            "[2 rows x 26 columns]\n",
            "\n",
            "==================================================\n",
            "\n"
          ]
        }
      ],
      "source": [
        "# List all files in the specified folder\n",
        "files = os.listdir(data_path)\n",
        "\n",
        "# Loop through each file and display the first 2 rows\n",
        "for file in files:\n",
        "    file_path = os.path.join(data_path, file)\n",
        "\n",
        "    # Check if the file is a CSV file (you can modify this based on your file type)\n",
        "    if file.endswith(\".csv\"):\n",
        "        # Read the first 2 rows using pandas\n",
        "        df = pd.read_csv(file_path, nrows=2)\n",
        "\n",
        "        # Display the file name and the first 2 rows\n",
        "        print(f\"File: {file}\")\n",
        "        print(df)\n",
        "        print(\"\\n\" + \"=\"*50 + \"\\n\")  # Separate each file's output"
      ]
    },
    {
      "cell_type": "code",
      "execution_count": null,
      "metadata": {
        "id": "_NuB7BGTD-Sw"
      },
      "outputs": [],
      "source": [
        "# List all files in the specified folder\n",
        "files = os.listdir(data_path)\n",
        "\n",
        "# Initialize an empty DataFrame to store concatenated data\n",
        "concatenated_df = pd.DataFrame()\n",
        "\n",
        "# Loop through each file, read data, and concatenate\n",
        "for file in files:\n",
        "    file_path = os.path.join(data_path, file)\n",
        "\n",
        "    # Check if the file is a CSV file (you can modify this based on your file type)\n",
        "    if file.endswith(\".csv\"):\n",
        "        # Read the entire file\n",
        "        df = pd.read_csv(file_path)\n",
        "\n",
        "        # Get columns that end with \"MW\"\n",
        "        mw_columns = [col for col in df.columns if col.endswith(\"MW\")]\n",
        "\n",
        "        # Create a new column \"MW\" with concatenated data\n",
        "        df['MW'] = df[mw_columns].apply(lambda row: ','.join(row.dropna().astype(str)), axis=1)\n",
        "\n",
        "        # Append the modified DataFrame to the concatenated DataFrame\n",
        "        concatenated_df = pd.concat([concatenated_df, df], ignore_index=True)\n",
        "\n",
        "# Save the concatenated DataFrame to a new CSV file\n",
        "concatenated_df.to_csv(energy_data, index=False)\n",
        "print('File created!!')"
      ]
    }
  ],
  "metadata": {
    "colab": {
      "provenance": [],
      "mount_file_id": "1mPoSJTWieoU__JUw_3zK9FJRaNriBKy-",
      "authorship_tag": "ABX9TyO7Tzj+olggfdx2FB3mYsVE",
      "include_colab_link": true
    },
    "kernelspec": {
      "display_name": "Python 3",
      "name": "python3"
    },
    "language_info": {
      "name": "python"
    }
  },
  "nbformat": 4,
  "nbformat_minor": 0
}